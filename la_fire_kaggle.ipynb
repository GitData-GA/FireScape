{
 "cells": [
  {
   "cell_type": "code",
   "execution_count": 1,
   "id": "80852cd2",
   "metadata": {},
   "outputs": [],
   "source": [
    "import pandas as pd\n",
    "import numpy as np"
   ]
  },
  {
   "cell_type": "code",
   "execution_count": 2,
   "id": "8d80eab9",
   "metadata": {},
   "outputs": [
    {
     "name": "stderr",
     "output_type": "stream",
     "text": [
      "/var/folders/xr/69vk_5_966g8wxf_bwqt42t80000gn/T/ipykernel_49768/1423021963.py:1: DtypeWarning: Columns (13,37,38) have mixed types. Specify dtype option on import or set low_memory=False.\n",
      "  df = pd.read_csv(\"/Users/davidliu/Desktop/IASC2025/la_fire_data/la_fire.csv\")\n"
     ]
    }
   ],
   "source": [
    "df = pd.read_csv(\"/Users/davidliu/Desktop/IASC2025/la_fire_data/la_fire.csv\")"
   ]
  },
  {
   "cell_type": "code",
   "execution_count": 3,
   "id": "8a4874b0",
   "metadata": {},
   "outputs": [
    {
     "data": {
      "text/html": [
       "<div>\n",
       "<style scoped>\n",
       "    .dataframe tbody tr th:only-of-type {\n",
       "        vertical-align: middle;\n",
       "    }\n",
       "\n",
       "    .dataframe tbody tr th {\n",
       "        vertical-align: top;\n",
       "    }\n",
       "\n",
       "    .dataframe thead th {\n",
       "        text-align: right;\n",
       "    }\n",
       "</style>\n",
       "<table border=\"1\" class=\"dataframe\">\n",
       "  <thead>\n",
       "    <tr style=\"text-align: right;\">\n",
       "      <th></th>\n",
       "      <th>_id</th>\n",
       "      <th>OBJECTID</th>\n",
       "      <th>* Damage</th>\n",
       "      <th>* Street Number</th>\n",
       "      <th>* Street Name</th>\n",
       "      <th>* Street Type (e.g. road, drive, lane, etc.)</th>\n",
       "      <th>Street Suffix (e.g. apt. 23, blding C)</th>\n",
       "      <th>* City</th>\n",
       "      <th>State</th>\n",
       "      <th>Zip Code</th>\n",
       "      <th>...</th>\n",
       "      <th>Fire Name (Secondary)</th>\n",
       "      <th>APN (parcel)</th>\n",
       "      <th>Assessed Improved Value (parcel)</th>\n",
       "      <th>Year Built (parcel)</th>\n",
       "      <th>Site Address (parcel)</th>\n",
       "      <th>GLOBALID</th>\n",
       "      <th>Latitude</th>\n",
       "      <th>Longitude</th>\n",
       "      <th>x</th>\n",
       "      <th>y</th>\n",
       "    </tr>\n",
       "  </thead>\n",
       "  <tbody>\n",
       "    <tr>\n",
       "      <th>0</th>\n",
       "      <td>1</td>\n",
       "      <td>1</td>\n",
       "      <td>No Damage</td>\n",
       "      <td>8376.0</td>\n",
       "      <td>Quail Canyon</td>\n",
       "      <td>Road</td>\n",
       "      <td>NaN</td>\n",
       "      <td>Winters</td>\n",
       "      <td>CA</td>\n",
       "      <td>NaN</td>\n",
       "      <td>...</td>\n",
       "      <td>Quail</td>\n",
       "      <td>0101090290</td>\n",
       "      <td>510000.0</td>\n",
       "      <td>1997.0</td>\n",
       "      <td>8376 QUAIL CANYON RD VACAVILLE CA 95688</td>\n",
       "      <td>e1919a06-b4c6-476d-99e5-f0b45b070de8</td>\n",
       "      <td>38.474960</td>\n",
       "      <td>-122.044465</td>\n",
       "      <td>-1.358593e+07</td>\n",
       "      <td>4.646741e+06</td>\n",
       "    </tr>\n",
       "    <tr>\n",
       "      <th>1</th>\n",
       "      <td>2</td>\n",
       "      <td>2</td>\n",
       "      <td>Affected (1-9%)</td>\n",
       "      <td>8402.0</td>\n",
       "      <td>Quail Canyon</td>\n",
       "      <td>Road</td>\n",
       "      <td>NaN</td>\n",
       "      <td>Winters</td>\n",
       "      <td>CA</td>\n",
       "      <td>NaN</td>\n",
       "      <td>...</td>\n",
       "      <td>Quail</td>\n",
       "      <td>0101090270</td>\n",
       "      <td>573052.0</td>\n",
       "      <td>1980.0</td>\n",
       "      <td>8402 QUAIL CANYON RD VACAVILLE CA 95688</td>\n",
       "      <td>b090eeb6-5b18-421e-9723-af7c9144587c</td>\n",
       "      <td>38.477442</td>\n",
       "      <td>-122.043252</td>\n",
       "      <td>-1.358579e+07</td>\n",
       "      <td>4.647094e+06</td>\n",
       "    </tr>\n",
       "    <tr>\n",
       "      <th>2</th>\n",
       "      <td>3</td>\n",
       "      <td>3</td>\n",
       "      <td>No Damage</td>\n",
       "      <td>8430.0</td>\n",
       "      <td>Quail Canyon</td>\n",
       "      <td>Road</td>\n",
       "      <td>NaN</td>\n",
       "      <td>Winters</td>\n",
       "      <td>CA</td>\n",
       "      <td>NaN</td>\n",
       "      <td>...</td>\n",
       "      <td>Quail</td>\n",
       "      <td>0101090310</td>\n",
       "      <td>350151.0</td>\n",
       "      <td>2004.0</td>\n",
       "      <td>8430 QUAIL CANYON RD VACAVILLE CA 95688</td>\n",
       "      <td>268da70b-753f-46aa-8fb1-327099337395</td>\n",
       "      <td>38.479358</td>\n",
       "      <td>-122.044585</td>\n",
       "      <td>-1.358594e+07</td>\n",
       "      <td>4.647366e+06</td>\n",
       "    </tr>\n",
       "    <tr>\n",
       "      <th>3</th>\n",
       "      <td>4</td>\n",
       "      <td>4</td>\n",
       "      <td>No Damage</td>\n",
       "      <td>3838.0</td>\n",
       "      <td>Putah Creek</td>\n",
       "      <td>Road</td>\n",
       "      <td>NaN</td>\n",
       "      <td>Winters</td>\n",
       "      <td>CA</td>\n",
       "      <td>NaN</td>\n",
       "      <td>...</td>\n",
       "      <td>Quail</td>\n",
       "      <td>0103010240</td>\n",
       "      <td>134880.0</td>\n",
       "      <td>1981.0</td>\n",
       "      <td>3838 PUTAH CREEK RD WINTERS CA 95694</td>\n",
       "      <td>64d4a278-5ee9-414a-8bf4-247c5b5c60f9</td>\n",
       "      <td>38.487313</td>\n",
       "      <td>-122.015115</td>\n",
       "      <td>-1.358266e+07</td>\n",
       "      <td>4.648497e+06</td>\n",
       "    </tr>\n",
       "    <tr>\n",
       "      <th>4</th>\n",
       "      <td>5</td>\n",
       "      <td>5</td>\n",
       "      <td>No Damage</td>\n",
       "      <td>3830.0</td>\n",
       "      <td>Putah Creek</td>\n",
       "      <td>Road</td>\n",
       "      <td>NaN</td>\n",
       "      <td>Winters</td>\n",
       "      <td>CA</td>\n",
       "      <td>NaN</td>\n",
       "      <td>...</td>\n",
       "      <td>Quail</td>\n",
       "      <td>0103010220</td>\n",
       "      <td>346648.0</td>\n",
       "      <td>1980.0</td>\n",
       "      <td>3830 PUTAH CREEK RD WINTERS CA 95694</td>\n",
       "      <td>1b44b214-01fd-4f06-b764-eb42a1ec93d7</td>\n",
       "      <td>38.485636</td>\n",
       "      <td>-122.016122</td>\n",
       "      <td>-1.358277e+07</td>\n",
       "      <td>4.648259e+06</td>\n",
       "    </tr>\n",
       "  </tbody>\n",
       "</table>\n",
       "<p>5 rows × 47 columns</p>\n",
       "</div>"
      ],
      "text/plain": [
       "   _id  OBJECTID         * Damage  * Street Number  * Street Name  \\\n",
       "0    1         1        No Damage           8376.0   Quail Canyon   \n",
       "1    2         2  Affected (1-9%)           8402.0   Quail Canyon   \n",
       "2    3         3        No Damage           8430.0  Quail Canyon    \n",
       "3    4         4        No Damage           3838.0    Putah Creek   \n",
       "4    5         5        No Damage           3830.0    Putah Creek   \n",
       "\n",
       "  * Street Type (e.g. road, drive, lane, etc.)  \\\n",
       "0                                         Road   \n",
       "1                                         Road   \n",
       "2                                         Road   \n",
       "3                                         Road   \n",
       "4                                         Road   \n",
       "\n",
       "  Street Suffix (e.g. apt. 23, blding C)   * City State  Zip Code  ...  \\\n",
       "0                                    NaN  Winters    CA       NaN  ...   \n",
       "1                                    NaN  Winters    CA       NaN  ...   \n",
       "2                                    NaN  Winters    CA       NaN  ...   \n",
       "3                                    NaN  Winters    CA       NaN  ...   \n",
       "4                                    NaN  Winters    CA       NaN  ...   \n",
       "\n",
       "  Fire Name (Secondary) APN (parcel) Assessed Improved Value (parcel)  \\\n",
       "0                 Quail   0101090290                         510000.0   \n",
       "1                 Quail   0101090270                         573052.0   \n",
       "2                 Quail   0101090310                         350151.0   \n",
       "3                 Quail   0103010240                         134880.0   \n",
       "4                 Quail   0103010220                         346648.0   \n",
       "\n",
       "  Year Built (parcel)                    Site Address (parcel)  \\\n",
       "0              1997.0  8376 QUAIL CANYON RD VACAVILLE CA 95688   \n",
       "1              1980.0  8402 QUAIL CANYON RD VACAVILLE CA 95688   \n",
       "2              2004.0  8430 QUAIL CANYON RD VACAVILLE CA 95688   \n",
       "3              1981.0     3838 PUTAH CREEK RD WINTERS CA 95694   \n",
       "4              1980.0     3830 PUTAH CREEK RD WINTERS CA 95694   \n",
       "\n",
       "                               GLOBALID   Latitude   Longitude             x  \\\n",
       "0  e1919a06-b4c6-476d-99e5-f0b45b070de8  38.474960 -122.044465 -1.358593e+07   \n",
       "1  b090eeb6-5b18-421e-9723-af7c9144587c  38.477442 -122.043252 -1.358579e+07   \n",
       "2  268da70b-753f-46aa-8fb1-327099337395  38.479358 -122.044585 -1.358594e+07   \n",
       "3  64d4a278-5ee9-414a-8bf4-247c5b5c60f9  38.487313 -122.015115 -1.358266e+07   \n",
       "4  1b44b214-01fd-4f06-b764-eb42a1ec93d7  38.485636 -122.016122 -1.358277e+07   \n",
       "\n",
       "              y  \n",
       "0  4.646741e+06  \n",
       "1  4.647094e+06  \n",
       "2  4.647366e+06  \n",
       "3  4.648497e+06  \n",
       "4  4.648259e+06  \n",
       "\n",
       "[5 rows x 47 columns]"
      ]
     },
     "execution_count": 3,
     "metadata": {},
     "output_type": "execute_result"
    }
   ],
   "source": [
    "df.head()"
   ]
  },
  {
   "cell_type": "code",
   "execution_count": 4,
   "id": "f0f05941",
   "metadata": {},
   "outputs": [
    {
     "data": {
      "text/plain": [
       "(100230, 47)"
      ]
     },
     "execution_count": 4,
     "metadata": {},
     "output_type": "execute_result"
    }
   ],
   "source": [
    "df.shape"
   ]
  },
  {
   "cell_type": "code",
   "execution_count": 5,
   "id": "1906270e",
   "metadata": {},
   "outputs": [
    {
     "data": {
      "text/plain": [
       "Index(['_id', 'OBJECTID', '* Damage', '* Street Number', '* Street Name',\n",
       "       '* Street Type (e.g. road, drive, lane, etc.)',\n",
       "       'Street Suffix (e.g. apt. 23, blding C)', '* City', 'State', 'Zip Code',\n",
       "       '* CAL FIRE Unit', 'County', 'Community', 'Battalion',\n",
       "       '* Incident Name', 'Incident Number (e.g. CAAEU 123456)',\n",
       "       'Incident Start Date', 'Hazard Type',\n",
       "       'If Affected 1-9% - Where did fire start?',\n",
       "       'If Affected 1-9% - What started fire?',\n",
       "       'Structure Defense Actions Taken', '* Structure Type',\n",
       "       'Structure Category', '# Units in Structure (if multi unit)',\n",
       "       '# of Damaged Outbuildings < 120 SQFT',\n",
       "       '# of Non Damaged Outbuildings < 120 SQFT', '* Roof Construction',\n",
       "       '* Eaves', '* Vent Screen', '* Exterior Siding', '* Window Pane',\n",
       "       '* Deck/Porch On Grade', '* Deck/Porch Elevated',\n",
       "       '* Patio Cover/Carport Attached to Structure',\n",
       "       '* Fence Attached to Structure', 'Distance - Propane Tank to Structure',\n",
       "       'Distance - Residence to Utility/Misc Structure &gt; 120 SQFT',\n",
       "       'Fire Name (Secondary)', 'APN (parcel)',\n",
       "       'Assessed Improved Value (parcel)', 'Year Built (parcel)',\n",
       "       'Site Address (parcel)', 'GLOBALID', 'Latitude', 'Longitude', 'x', 'y'],\n",
       "      dtype='object')"
      ]
     },
     "execution_count": 5,
     "metadata": {},
     "output_type": "execute_result"
    }
   ],
   "source": [
    "df.columns"
   ]
  },
  {
   "cell_type": "code",
   "execution_count": 6,
   "id": "baa1db9a",
   "metadata": {},
   "outputs": [
    {
     "data": {
      "text/plain": [
       "* Street Number                                                  4420\n",
       "* Street Name                                                    5486\n",
       "* Street Type (e.g. road, drive, lane, etc.)                    13197\n",
       "Street Suffix (e.g. apt. 23, blding C)                          56082\n",
       "* City                                                          31614\n",
       "State                                                               7\n",
       "Zip Code                                                        52801\n",
       "County                                                             30\n",
       "Community                                                       47338\n",
       "Battalion                                                       93832\n",
       "If Affected 1-9% - Where did fire start?                        89490\n",
       "If Affected 1-9% - What started fire?                           91214\n",
       "Structure Defense Actions Taken                                 75760\n",
       "# Units in Structure (if multi unit)                            69046\n",
       "# of Damaged Outbuildings < 120 SQFT                            69145\n",
       "# of Non Damaged Outbuildings < 120 SQFT                        69157\n",
       "* Roof Construction                                               628\n",
       "* Eaves                                                          1112\n",
       "* Vent Screen                                                    1198\n",
       "* Exterior Siding                                                 909\n",
       "* Window Pane                                                     976\n",
       "* Fence Attached to Structure                                   21595\n",
       "Distance - Propane Tank to Structure                            77173\n",
       "Distance - Residence to Utility/Misc Structure &gt; 120 SQFT    85874\n",
       "Fire Name (Secondary)                                           79059\n",
       "APN (parcel)                                                      617\n",
       "Assessed Improved Value (parcel)                                 6035\n",
       "Year Built (parcel)                                             30418\n",
       "Site Address (parcel)                                            4639\n",
       "dtype: int64"
      ]
     },
     "execution_count": 6,
     "metadata": {},
     "output_type": "execute_result"
    }
   ],
   "source": [
    "df.isna().sum()[df.isna().sum() > 0]"
   ]
  },
  {
   "cell_type": "code",
   "execution_count": 7,
   "id": "108eca69",
   "metadata": {},
   "outputs": [
    {
     "data": {
      "text/plain": [
       "array(['Solano', 'Sacramento', 'Butte', 'San Luis Obispo', 'Siskiyou',\n",
       "       'Santa Clara', 'San Benito', 'Lassen', 'Riverside',\n",
       "       'San Bernardino', 'El Dorado', 'Kern', 'Nevada', 'Napa', 'Shasta',\n",
       "       'Tehama', 'Glenn', 'Los Angeles', 'Mendocino', 'Yuba', 'San Diego',\n",
       "       'Trinity', 'Lake', 'Humboldt', 'Monterey', 'Plumas', 'Tulare',\n",
       "       'Fresno', 'Madera', 'Sonoma', 'Yolo', 'San Mateo', 'Santa Cruz',\n",
       "       'Alameda', 'Stanislaus', 'San Joaquin', 'Orange', 'Ventura',\n",
       "       'Contra Costa', 'Calaveras', 'Tuolumne', 'Placer', 'Amador',\n",
       "       'Mariposa', 'Santa Barbara', 'Mono', 'Inyo', 'Kings', 'Alpine',\n",
       "       nan, 'Colusa'], dtype=object)"
      ]
     },
     "execution_count": 7,
     "metadata": {},
     "output_type": "execute_result"
    }
   ],
   "source": [
    "df['County'].unique()"
   ]
  },
  {
   "cell_type": "markdown",
   "id": "789d4582",
   "metadata": {},
   "source": [
    "# Filter the LA County"
   ]
  },
  {
   "cell_type": "code",
   "execution_count": 8,
   "id": "e5398f77",
   "metadata": {},
   "outputs": [
    {
     "name": "stdout",
     "output_type": "stream",
     "text": [
      "Filtered to LA County: (3770, 47)\n"
     ]
    }
   ],
   "source": [
    "df_la = df[df['County'].str.lower() == 'los angeles'].copy()\n",
    "print(f\"Filtered to LA County: {df_la.shape}\")"
   ]
  },
  {
   "cell_type": "code",
   "execution_count": 9,
   "id": "05160325",
   "metadata": {},
   "outputs": [
    {
     "data": {
      "text/plain": [
       "673       8/12/2020 12:00:00 AM\n",
       "674       8/12/2020 12:00:00 AM\n",
       "675       8/12/2020 12:00:00 AM\n",
       "676       8/12/2020 12:00:00 AM\n",
       "677       8/12/2020 12:00:00 AM\n",
       "                  ...          \n",
       "100225    12/9/2024 12:00:00 AM\n",
       "100226    12/9/2024 12:00:00 AM\n",
       "100227    12/9/2024 12:00:00 AM\n",
       "100228    12/9/2024 12:00:00 AM\n",
       "100229    12/9/2024 12:00:00 AM\n",
       "Name: Incident Start Date, Length: 3770, dtype: object"
      ]
     },
     "execution_count": 9,
     "metadata": {},
     "output_type": "execute_result"
    }
   ],
   "source": [
    "df_la['Incident Start Date']"
   ]
  },
  {
   "cell_type": "code",
   "execution_count": 10,
   "id": "c5ec8ad3",
   "metadata": {},
   "outputs": [
    {
     "name": "stderr",
     "output_type": "stream",
     "text": [
      "/var/folders/xr/69vk_5_966g8wxf_bwqt42t80000gn/T/ipykernel_49768/2723427782.py:2: UserWarning: Could not infer format, so each element will be parsed individually, falling back to `dateutil`. To ensure parsing is consistent and as-expected, please specify a format.\n",
      "  df_la['Incident Start Date'] = pd.to_datetime(df_la['Incident Start Date'], errors='coerce')\n"
     ]
    }
   ],
   "source": [
    "# Convert incident start date\n",
    "df_la['Incident Start Date'] = pd.to_datetime(df_la['Incident Start Date'], errors='coerce')\n",
    "\n",
    "# Drop rows with no valid date\n",
    "df_la = df_la.dropna(subset=['Incident Start Date'])\n",
    "\n",
    "# Add year, month\n",
    "df_la['year'] = df_la['Incident Start Date'].dt.year\n",
    "df_la['month'] = df_la['Incident Start Date'].dt.month\n"
   ]
  },
  {
   "cell_type": "code",
   "execution_count": 12,
   "id": "64372cb8",
   "metadata": {},
   "outputs": [],
   "source": [
    "keep_cols = [ '* Damage', 'Incident Start Date', 'Hazard Type','Latitude', 'Longitude', '* City', '* Structure Type', 'year', 'month'] #or more\n",
    "df_la_clean = df_la[keep_cols].copy()\n"
   ]
  },
  {
   "cell_type": "code",
   "execution_count": 13,
   "id": "38cc198a",
   "metadata": {},
   "outputs": [
    {
     "data": {
      "text/plain": [
       "* City    569\n",
       "dtype: int64"
      ]
     },
     "execution_count": 13,
     "metadata": {},
     "output_type": "execute_result"
    }
   ],
   "source": [
    "df_la_clean.isna().sum()[df_la_clean.isna().sum() > 0]"
   ]
  },
  {
   "cell_type": "code",
   "execution_count": 14,
   "id": "befb085c",
   "metadata": {},
   "outputs": [
    {
     "data": {
      "text/plain": [
       "array(['LAKE HUGHES', 'LAKE HUGHES ', 'LANCASTER ', 'LANCASTER', nan,\n",
       "       'Los Angeles County', 'Malibu', 'Agoura Hills', 'Calabasas',\n",
       "       'Hidden Hills', 'Westlake Village', 'Los Angeles', 'Los Angeles ',\n",
       "       'Unincorporated', 'Santa Clarita', 'Lebec', 'Lancaster', 'Gorman',\n",
       "       'Llano', 'Mt Baldy', 'North Hollywood', 'Monrovia', 'Wrightwood',\n",
       "       'MT. BALDY', 'Mt. Baldy', 'Valyermo', 'Claremont'], dtype=object)"
      ]
     },
     "execution_count": 14,
     "metadata": {},
     "output_type": "execute_result"
    }
   ],
   "source": [
    "df_la_clean['* City'].unique()"
   ]
  },
  {
   "cell_type": "code",
   "execution_count": 15,
   "id": "775ed027",
   "metadata": {},
   "outputs": [
    {
     "data": {
      "text/plain": [
       "array(['Fire'], dtype=object)"
      ]
     },
     "execution_count": 15,
     "metadata": {},
     "output_type": "execute_result"
    }
   ],
   "source": [
    "df_la_clean['Hazard Type'].unique()"
   ]
  },
  {
   "cell_type": "code",
   "execution_count": 16,
   "id": "a2b8f883",
   "metadata": {},
   "outputs": [
    {
     "data": {
      "text/plain": [
       "array(['Destroyed (>50%)', 'Affected (1-9%)', 'Major (26-50%)',\n",
       "       'Minor (10-25%)', 'No Damage', 'Inaccessible'], dtype=object)"
      ]
     },
     "execution_count": 16,
     "metadata": {},
     "output_type": "execute_result"
    }
   ],
   "source": [
    "df_la_clean['* Damage'].unique()"
   ]
  },
  {
   "cell_type": "code",
   "execution_count": 17,
   "id": "80ea7a99",
   "metadata": {},
   "outputs": [
    {
     "data": {
      "text/plain": [
       "* Damage\n",
       "Destroyed (>50%)    1975\n",
       "No Damage           1166\n",
       "Affected (1-9%)      379\n",
       "Minor (10-25%)       113\n",
       "Major (26-50%)        89\n",
       "Inaccessible          48\n",
       "Name: count, dtype: int64"
      ]
     },
     "execution_count": 17,
     "metadata": {},
     "output_type": "execute_result"
    }
   ],
   "source": [
    "df_la_clean['* Damage'].value_counts()"
   ]
  },
  {
   "cell_type": "code",
   "execution_count": 18,
   "id": "ad1f43ee",
   "metadata": {},
   "outputs": [
    {
     "data": {
      "text/plain": [
       "* Structure Type\n",
       "Single Family Residence Single Story    1164\n",
       "Utility Misc Structure                   969\n",
       "Single Family Residence Multi Story      963\n",
       "Mobile Home Double Wide                  184\n",
       "Commercial Building Single Story         169\n",
       "Multi Family Residence Multi Story       112\n",
       "School                                    46\n",
       "Mobile Home Single Wide                   42\n",
       "Commercial Building Multi Story           42\n",
       "Infrastructure                            28\n",
       "Motor Home                                18\n",
       "Mixed Commercial/Residential              15\n",
       "Church                                     8\n",
       "Mobile Home Triple Wide                    6\n",
       "Multi Family Residence Single Story        4\n",
       "Name: count, dtype: int64"
      ]
     },
     "execution_count": 18,
     "metadata": {},
     "output_type": "execute_result"
    }
   ],
   "source": [
    "df_la_clean['* Structure Type'].value_counts()"
   ]
  },
  {
   "cell_type": "code",
   "execution_count": 19,
   "id": "b42bb5b4",
   "metadata": {},
   "outputs": [],
   "source": [
    "df_la_clean = df_la_clean.rename(columns={\n",
    "    '* Damage': 'Damage',\n",
    "    'Hazard Type': 'Hazard_Type',\n",
    "    'Latitude': 'Latitude',\n",
    "    'Longitude': 'Longitude',\n",
    "    '* City': 'City',\n",
    "    '* Structure Type': 'Structure_Type'\n",
    "})\n",
    "\n",
    "#df_la_clean = pd.DataFrame(df_la_clean)"
   ]
  },
  {
   "cell_type": "code",
   "execution_count": 20,
   "id": "a2f7de3d",
   "metadata": {},
   "outputs": [],
   "source": [
    "# Reindex the DataFrame to have a new sequential index\n",
    "df_la_clean = df_la_clean.reset_index(drop=True)"
   ]
  },
  {
   "cell_type": "code",
   "execution_count": 21,
   "id": "d94b1686",
   "metadata": {},
   "outputs": [
    {
     "data": {
      "text/html": [
       "<div>\n",
       "<style scoped>\n",
       "    .dataframe tbody tr th:only-of-type {\n",
       "        vertical-align: middle;\n",
       "    }\n",
       "\n",
       "    .dataframe tbody tr th {\n",
       "        vertical-align: top;\n",
       "    }\n",
       "\n",
       "    .dataframe thead th {\n",
       "        text-align: right;\n",
       "    }\n",
       "</style>\n",
       "<table border=\"1\" class=\"dataframe\">\n",
       "  <thead>\n",
       "    <tr style=\"text-align: right;\">\n",
       "      <th></th>\n",
       "      <th>Damage</th>\n",
       "      <th>Incident Start Date</th>\n",
       "      <th>Hazard_Type</th>\n",
       "      <th>Latitude</th>\n",
       "      <th>Longitude</th>\n",
       "      <th>City</th>\n",
       "      <th>Structure_Type</th>\n",
       "      <th>year</th>\n",
       "      <th>month</th>\n",
       "    </tr>\n",
       "  </thead>\n",
       "  <tbody>\n",
       "    <tr>\n",
       "      <th>0</th>\n",
       "      <td>Destroyed (&gt;50%)</td>\n",
       "      <td>2020-08-12</td>\n",
       "      <td>Fire</td>\n",
       "      <td>34.688407</td>\n",
       "      <td>-118.479803</td>\n",
       "      <td>LAKE HUGHES</td>\n",
       "      <td>Single Family Residence Single Story</td>\n",
       "      <td>2020</td>\n",
       "      <td>8</td>\n",
       "    </tr>\n",
       "    <tr>\n",
       "      <th>1</th>\n",
       "      <td>Destroyed (&gt;50%)</td>\n",
       "      <td>2020-08-12</td>\n",
       "      <td>Fire</td>\n",
       "      <td>34.689315</td>\n",
       "      <td>-118.473639</td>\n",
       "      <td>LAKE HUGHES</td>\n",
       "      <td>Utility Misc Structure</td>\n",
       "      <td>2020</td>\n",
       "      <td>8</td>\n",
       "    </tr>\n",
       "    <tr>\n",
       "      <th>2</th>\n",
       "      <td>Destroyed (&gt;50%)</td>\n",
       "      <td>2020-08-12</td>\n",
       "      <td>Fire</td>\n",
       "      <td>34.693059</td>\n",
       "      <td>-118.486957</td>\n",
       "      <td>LAKE HUGHES</td>\n",
       "      <td>Utility Misc Structure</td>\n",
       "      <td>2020</td>\n",
       "      <td>8</td>\n",
       "    </tr>\n",
       "    <tr>\n",
       "      <th>3</th>\n",
       "      <td>Destroyed (&gt;50%)</td>\n",
       "      <td>2020-08-12</td>\n",
       "      <td>Fire</td>\n",
       "      <td>34.692542</td>\n",
       "      <td>-118.487347</td>\n",
       "      <td>LAKE HUGHES</td>\n",
       "      <td>Mobile Home Double Wide</td>\n",
       "      <td>2020</td>\n",
       "      <td>8</td>\n",
       "    </tr>\n",
       "    <tr>\n",
       "      <th>4</th>\n",
       "      <td>Destroyed (&gt;50%)</td>\n",
       "      <td>2020-08-12</td>\n",
       "      <td>Fire</td>\n",
       "      <td>34.688467</td>\n",
       "      <td>-118.480281</td>\n",
       "      <td>LAKE HUGHES</td>\n",
       "      <td>Utility Misc Structure</td>\n",
       "      <td>2020</td>\n",
       "      <td>8</td>\n",
       "    </tr>\n",
       "    <tr>\n",
       "      <th>...</th>\n",
       "      <td>...</td>\n",
       "      <td>...</td>\n",
       "      <td>...</td>\n",
       "      <td>...</td>\n",
       "      <td>...</td>\n",
       "      <td>...</td>\n",
       "      <td>...</td>\n",
       "      <td>...</td>\n",
       "      <td>...</td>\n",
       "    </tr>\n",
       "    <tr>\n",
       "      <th>3765</th>\n",
       "      <td>No Damage</td>\n",
       "      <td>2024-12-09</td>\n",
       "      <td>Fire</td>\n",
       "      <td>34.033408</td>\n",
       "      <td>-118.700625</td>\n",
       "      <td>Malibu</td>\n",
       "      <td>Single Family Residence Single Story</td>\n",
       "      <td>2024</td>\n",
       "      <td>12</td>\n",
       "    </tr>\n",
       "    <tr>\n",
       "      <th>3766</th>\n",
       "      <td>No Damage</td>\n",
       "      <td>2024-12-09</td>\n",
       "      <td>Fire</td>\n",
       "      <td>34.033278</td>\n",
       "      <td>-118.700902</td>\n",
       "      <td>Malibu</td>\n",
       "      <td>Utility Misc Structure</td>\n",
       "      <td>2024</td>\n",
       "      <td>12</td>\n",
       "    </tr>\n",
       "    <tr>\n",
       "      <th>3767</th>\n",
       "      <td>No Damage</td>\n",
       "      <td>2024-12-09</td>\n",
       "      <td>Fire</td>\n",
       "      <td>34.033618</td>\n",
       "      <td>-118.701102</td>\n",
       "      <td>Malibu</td>\n",
       "      <td>Single Family Residence Single Story</td>\n",
       "      <td>2024</td>\n",
       "      <td>12</td>\n",
       "    </tr>\n",
       "    <tr>\n",
       "      <th>3768</th>\n",
       "      <td>No Damage</td>\n",
       "      <td>2024-12-09</td>\n",
       "      <td>Fire</td>\n",
       "      <td>34.032085</td>\n",
       "      <td>-118.698270</td>\n",
       "      <td>Malibu</td>\n",
       "      <td>Single Family Residence Multi Story</td>\n",
       "      <td>2024</td>\n",
       "      <td>12</td>\n",
       "    </tr>\n",
       "    <tr>\n",
       "      <th>3769</th>\n",
       "      <td>No Damage</td>\n",
       "      <td>2024-12-09</td>\n",
       "      <td>Fire</td>\n",
       "      <td>34.031957</td>\n",
       "      <td>-118.698497</td>\n",
       "      <td>Malibu</td>\n",
       "      <td>Single Family Residence Multi Story</td>\n",
       "      <td>2024</td>\n",
       "      <td>12</td>\n",
       "    </tr>\n",
       "  </tbody>\n",
       "</table>\n",
       "<p>3770 rows × 9 columns</p>\n",
       "</div>"
      ],
      "text/plain": [
       "                Damage Incident Start Date Hazard_Type   Latitude   Longitude  \\\n",
       "0     Destroyed (>50%)          2020-08-12        Fire  34.688407 -118.479803   \n",
       "1     Destroyed (>50%)          2020-08-12        Fire  34.689315 -118.473639   \n",
       "2     Destroyed (>50%)          2020-08-12        Fire  34.693059 -118.486957   \n",
       "3     Destroyed (>50%)          2020-08-12        Fire  34.692542 -118.487347   \n",
       "4     Destroyed (>50%)          2020-08-12        Fire  34.688467 -118.480281   \n",
       "...                ...                 ...         ...        ...         ...   \n",
       "3765         No Damage          2024-12-09        Fire  34.033408 -118.700625   \n",
       "3766         No Damage          2024-12-09        Fire  34.033278 -118.700902   \n",
       "3767         No Damage          2024-12-09        Fire  34.033618 -118.701102   \n",
       "3768         No Damage          2024-12-09        Fire  34.032085 -118.698270   \n",
       "3769         No Damage          2024-12-09        Fire  34.031957 -118.698497   \n",
       "\n",
       "              City                        Structure_Type  year  month  \n",
       "0      LAKE HUGHES  Single Family Residence Single Story  2020      8  \n",
       "1      LAKE HUGHES                Utility Misc Structure  2020      8  \n",
       "2      LAKE HUGHES                Utility Misc Structure  2020      8  \n",
       "3     LAKE HUGHES                Mobile Home Double Wide  2020      8  \n",
       "4     LAKE HUGHES                 Utility Misc Structure  2020      8  \n",
       "...            ...                                   ...   ...    ...  \n",
       "3765        Malibu  Single Family Residence Single Story  2024     12  \n",
       "3766        Malibu                Utility Misc Structure  2024     12  \n",
       "3767        Malibu  Single Family Residence Single Story  2024     12  \n",
       "3768        Malibu   Single Family Residence Multi Story  2024     12  \n",
       "3769        Malibu   Single Family Residence Multi Story  2024     12  \n",
       "\n",
       "[3770 rows x 9 columns]"
      ]
     },
     "execution_count": 21,
     "metadata": {},
     "output_type": "execute_result"
    }
   ],
   "source": [
    "df_la_clean"
   ]
  },
  {
   "cell_type": "code",
   "execution_count": 22,
   "id": "0fc9cd32",
   "metadata": {},
   "outputs": [
    {
     "name": "stdout",
     "output_type": "stream",
     "text": [
      "   year  month  fire_count\n",
      "0  2017     12         293\n",
      "1  2018     11        1712\n",
      "2  2019     10         239\n",
      "3  2020      8          39\n",
      "4  2020      9         228\n"
     ]
    }
   ],
   "source": [
    "fire_counts = df_la_clean.groupby(['year', 'month']).size().reset_index(name='fire_count')\n",
    "print(fire_counts.head())"
   ]
  },
  {
   "cell_type": "code",
   "execution_count": 23,
   "id": "7fe332b0",
   "metadata": {},
   "outputs": [],
   "source": [
    "df_la_clean.to_csv(\"la_wildfire_cleaned.csv\", index=False)"
   ]
  },
  {
   "cell_type": "code",
   "execution_count": 29,
   "id": "c1a43035",
   "metadata": {},
   "outputs": [],
   "source": [
    "data = df_la_clean[df_la_clean[\"City\"].str.strip() == \"Los Angeles\"]\n"
   ]
  },
  {
   "cell_type": "code",
   "execution_count": 30,
   "id": "851579e3",
   "metadata": {},
   "outputs": [
    {
     "data": {
      "text/plain": [
       "array(['Los Angeles', 'Los Angeles '], dtype=object)"
      ]
     },
     "execution_count": 30,
     "metadata": {},
     "output_type": "execute_result"
    }
   ],
   "source": [
    "np.unique(data[\"City\"])"
   ]
  },
  {
   "cell_type": "code",
   "execution_count": 31,
   "id": "0b258399",
   "metadata": {},
   "outputs": [],
   "source": [
    "data.to_csv(\"la_city_wildfire_cleaned.csv\", index=False)"
   ]
  },
  {
   "cell_type": "markdown",
   "id": "abc2ed09",
   "metadata": {},
   "source": [
    "# EDA"
   ]
  },
  {
   "cell_type": "code",
   "execution_count": 108,
   "id": "af13bd02",
   "metadata": {},
   "outputs": [],
   "source": [
    "from sklearn.cluster import DBSCAN\n",
    "import numpy as np\n",
    "import pandas as pd\n",
    "import matplotlib.pyplot as plt\n",
    "\n",
    "# Use only Latitude and Longitude\n",
    "coords = df_la_clean[['Latitude', 'Longitude']].values\n"
   ]
  },
  {
   "cell_type": "code",
   "execution_count": 109,
   "id": "2c0c31af",
   "metadata": {},
   "outputs": [],
   "source": [
    "import pandas as pd\n",
    "import matplotlib.pyplot as plt\n",
    "import seaborn as sns\n",
    "from sklearn.cluster import DBSCAN\n",
    "\n",
    "damage_order = [\n",
    "    'Destroyed (>50%)',\n",
    "    'Major (26-50%)',\n",
    "    'Minor (10-25%)',\n",
    "    'Affected (1-9%)',\n",
    "    'Inaccessible',\n",
    "    'No Damage'\n",
    "]\n",
    "\n",
    "df_la_clean['Damage'] = pd.Categorical(df_la_clean['Damage'], categories=damage_order, ordered=True)\n",
    "# Custom reversed color palette (dark red = most damage)\n",
    "custom_palette = sns.color_palette(\"YlOrRd\", n_colors=len(damage_order))[::-1]\n",
    "damage_palette = dict(zip(damage_order, custom_palette))\n"
   ]
  },
  {
   "cell_type": "code",
   "execution_count": 110,
   "id": "53031dc3",
   "metadata": {},
   "outputs": [
    {
     "data": {
      "image/png": "[encoded data removed]",
      "text/plain": [
       "<Figure size 1200x1000 with 1 Axes>"
      ]
     },
     "metadata": {},
     "output_type": "display_data"
    }
   ],
   "source": [
    "plt.figure(figsize=(12, 10), dpi=100)\n",
    "\n",
    "sns.scatterplot(\n",
    "    data=df_la_clean,\n",
    "    x='Longitude',\n",
    "    y='Latitude',\n",
    "    hue='Damage',\n",
    "    palette=damage_palette,\n",
    "    s=30,\n",
    "    edgecolor='black',\n",
    "    linewidth=0.4\n",
    ")\n",
    "\n",
    "plt.title('Fire Damage Distribution in Los Angeles (2020–2024)', fontsize=16)\n",
    "plt.xlabel('Longitude')\n",
    "plt.ylabel('Latitude')\n",
    "plt.legend(title='Damage Level', loc='upper right', fontsize='small')\n",
    "plt.grid(True)\n",
    "plt.tight_layout()\n",
    "plt.show()\n"
   ]
  }
 ],
 "metadata": {
  "kernelspec": {
   "display_name": "base",
   "language": "python",
   "name": "python3"
  },
  "language_info": {
   "codemirror_mode": {
    "name": "ipython",
    "version": 3
   },
   "file_extension": ".py",
   "mimetype": "text/x-python",
   "name": "python",
   "nbconvert_exporter": "python",
   "pygments_lexer": "ipython3",
   "version": "3.12.7"
  }
 },
 "nbformat": 4,
 "nbformat_minor": 5
}
