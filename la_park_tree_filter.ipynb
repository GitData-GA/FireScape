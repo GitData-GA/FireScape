{
 "cells": [
  {
   "cell_type": "code",
   "execution_count": 22,
   "id": "80852cd2",
   "metadata": {},
   "outputs": [],
   "source": [
    "import pandas as pd\n",
    "import numpy as np"
   ]
  },
  {
   "cell_type": "code",
   "execution_count": null,
   "id": "8d80eab9",
   "metadata": {},
   "outputs": [],
   "source": [
    "df = pd.read_csv(\"la_tree_park.csv\")"
   ]
  },
  {
   "cell_type": "code",
   "execution_count": 24,
   "id": "8a4874b0",
   "metadata": {},
   "outputs": [
    {
     "data": {
      "text/html": [
       "<div>\n",
       "<style scoped>\n",
       "    .dataframe tbody tr th:only-of-type {\n",
       "        vertical-align: middle;\n",
       "    }\n",
       "\n",
       "    .dataframe tbody tr th {\n",
       "        vertical-align: top;\n",
       "    }\n",
       "\n",
       "    .dataframe thead th {\n",
       "        text-align: right;\n",
       "    }\n",
       "</style>\n",
       "<table border=\"1\" class=\"dataframe\">\n",
       "  <thead>\n",
       "    <tr style=\"text-align: right;\">\n",
       "      <th></th>\n",
       "      <th>Park.Name</th>\n",
       "      <th>Remote.ID</th>\n",
       "      <th>Latitude</th>\n",
       "      <th>Longitude</th>\n",
       "      <th>Species</th>\n",
       "      <th>Diameter</th>\n",
       "      <th>Heritage.Tree</th>\n",
       "      <th>Historic.Tree</th>\n",
       "      <th>Protected.Tree</th>\n",
       "    </tr>\n",
       "  </thead>\n",
       "  <tbody>\n",
       "    <tr>\n",
       "      <th>0</th>\n",
       "      <td>1st And Broadway Civic Center Park (TBD)</td>\n",
       "      <td>9865_1435657395</td>\n",
       "      <td>34.058211</td>\n",
       "      <td>-118.249522</td>\n",
       "      <td>_Default Tree (_Default Tree)</td>\n",
       "      <td>0.0</td>\n",
       "      <td>No</td>\n",
       "      <td>No</td>\n",
       "      <td>No</td>\n",
       "    </tr>\n",
       "    <tr>\n",
       "      <th>1</th>\n",
       "      <td>1st And Broadway Civic Center Park (TBD)</td>\n",
       "      <td>9865_1435657417</td>\n",
       "      <td>34.058159</td>\n",
       "      <td>-118.249584</td>\n",
       "      <td>_Default Pest Control (_Default Pest Control)</td>\n",
       "      <td>0.0</td>\n",
       "      <td>No</td>\n",
       "      <td>No</td>\n",
       "      <td>No</td>\n",
       "    </tr>\n",
       "    <tr>\n",
       "      <th>2</th>\n",
       "      <td>1st And Broadway Civic Center Park (TBD)</td>\n",
       "      <td>9865_1435657451</td>\n",
       "      <td>34.058142</td>\n",
       "      <td>-118.249470</td>\n",
       "      <td>_Default Support Services (_Default Support Se...</td>\n",
       "      <td>0.0</td>\n",
       "      <td>No</td>\n",
       "      <td>No</td>\n",
       "      <td>No</td>\n",
       "    </tr>\n",
       "    <tr>\n",
       "      <th>3</th>\n",
       "      <td>1st And Broadway Civic Center Park (TBD)</td>\n",
       "      <td>9865_1512136881</td>\n",
       "      <td>34.053493</td>\n",
       "      <td>-118.244818</td>\n",
       "      <td>_Default Pest Control (_Default Pest Control)</td>\n",
       "      <td>0.0</td>\n",
       "      <td>No</td>\n",
       "      <td>No</td>\n",
       "      <td>No</td>\n",
       "    </tr>\n",
       "    <tr>\n",
       "      <th>4</th>\n",
       "      <td>1st And Broadway Civic Center Park (TBD)</td>\n",
       "      <td>9865_1532248866</td>\n",
       "      <td>34.053431</td>\n",
       "      <td>-118.244721</td>\n",
       "      <td>_Default Tree (_Default Tree)</td>\n",
       "      <td>0.0</td>\n",
       "      <td>No</td>\n",
       "      <td>No</td>\n",
       "      <td>No</td>\n",
       "    </tr>\n",
       "  </tbody>\n",
       "</table>\n",
       "</div>"
      ],
      "text/plain": [
       "                                  Park.Name        Remote.ID   Latitude  \\\n",
       "0  1st And Broadway Civic Center Park (TBD)  9865_1435657395  34.058211   \n",
       "1  1st And Broadway Civic Center Park (TBD)  9865_1435657417  34.058159   \n",
       "2  1st And Broadway Civic Center Park (TBD)  9865_1435657451  34.058142   \n",
       "3  1st And Broadway Civic Center Park (TBD)  9865_1512136881  34.053493   \n",
       "4  1st And Broadway Civic Center Park (TBD)  9865_1532248866  34.053431   \n",
       "\n",
       "    Longitude                                            Species  Diameter  \\\n",
       "0 -118.249522                      _Default Tree (_Default Tree)       0.0   \n",
       "1 -118.249584      _Default Pest Control (_Default Pest Control)       0.0   \n",
       "2 -118.249470  _Default Support Services (_Default Support Se...       0.0   \n",
       "3 -118.244818      _Default Pest Control (_Default Pest Control)       0.0   \n",
       "4 -118.244721                      _Default Tree (_Default Tree)       0.0   \n",
       "\n",
       "  Heritage.Tree Historic.Tree Protected.Tree  \n",
       "0            No            No             No  \n",
       "1            No            No             No  \n",
       "2            No            No             No  \n",
       "3            No            No             No  \n",
       "4            No            No             No  "
      ]
     },
     "execution_count": 24,
     "metadata": {},
     "output_type": "execute_result"
    }
   ],
   "source": [
    "df.head()"
   ]
  },
  {
   "cell_type": "markdown",
   "id": "76f3c6b9",
   "metadata": {},
   "source": [
    "# Drop Diameter = 0"
   ]
  },
  {
   "cell_type": "code",
   "execution_count": 25,
   "id": "a544dfe3",
   "metadata": {},
   "outputs": [],
   "source": [
    "# Drop Diameter = 0\n",
    "df_filtered_street = df[df['Diameter'] != 0]\n",
    "# Optionally reset the index\n",
    "df_filtered = df_filtered_street.reset_index(drop=True)"
   ]
  },
  {
   "cell_type": "markdown",
   "id": "c20c20f8",
   "metadata": {},
   "source": [
    "# Combined to New Column Any_Protected"
   ]
  },
  {
   "cell_type": "code",
   "execution_count": 26,
   "id": "3bc41211",
   "metadata": {},
   "outputs": [],
   "source": [
    "df_filtered['Any_Protected'] = df_filtered[['Heritage.Tree', 'Historic.Tree', 'Protected.Tree']].apply(\n",
    "    lambda row: True if 'Yes' in row.values else False, axis=1\n",
    ")"
   ]
  },
  {
   "cell_type": "code",
   "execution_count": 28,
   "id": "e965ee0e",
   "metadata": {},
   "outputs": [
    {
     "data": {
      "text/html": [
       "<div>\n",
       "<style scoped>\n",
       "    .dataframe tbody tr th:only-of-type {\n",
       "        vertical-align: middle;\n",
       "    }\n",
       "\n",
       "    .dataframe tbody tr th {\n",
       "        vertical-align: top;\n",
       "    }\n",
       "\n",
       "    .dataframe thead th {\n",
       "        text-align: right;\n",
       "    }\n",
       "</style>\n",
       "<table border=\"1\" class=\"dataframe\">\n",
       "  <thead>\n",
       "    <tr style=\"text-align: right;\">\n",
       "      <th></th>\n",
       "      <th>Latitude</th>\n",
       "      <th>Longitude</th>\n",
       "      <th>Species</th>\n",
       "      <th>Diameter</th>\n",
       "      <th>Any_Protected</th>\n",
       "    </tr>\n",
       "  </thead>\n",
       "  <tbody>\n",
       "    <tr>\n",
       "      <th>0</th>\n",
       "      <td>34.040379</td>\n",
       "      <td>-118.242485</td>\n",
       "      <td>Indian laurel fig (Ficus microcarpa)</td>\n",
       "      <td>20.0</td>\n",
       "      <td>False</td>\n",
       "    </tr>\n",
       "    <tr>\n",
       "      <th>1</th>\n",
       "      <td>34.040320</td>\n",
       "      <td>-118.242379</td>\n",
       "      <td>Indian laurel fig (Ficus microcarpa)</td>\n",
       "      <td>22.0</td>\n",
       "      <td>False</td>\n",
       "    </tr>\n",
       "    <tr>\n",
       "      <th>2</th>\n",
       "      <td>34.040205</td>\n",
       "      <td>-118.242635</td>\n",
       "      <td>African fern pine (Afrocarpus falcatus)</td>\n",
       "      <td>5.0</td>\n",
       "      <td>False</td>\n",
       "    </tr>\n",
       "    <tr>\n",
       "      <th>3</th>\n",
       "      <td>34.040299</td>\n",
       "      <td>-118.242609</td>\n",
       "      <td>London plane tree (Platanus x hispanica)</td>\n",
       "      <td>16.0</td>\n",
       "      <td>False</td>\n",
       "    </tr>\n",
       "    <tr>\n",
       "      <th>4</th>\n",
       "      <td>34.040344</td>\n",
       "      <td>-118.242567</td>\n",
       "      <td>London plane tree (Platanus x hispanica)</td>\n",
       "      <td>16.0</td>\n",
       "      <td>False</td>\n",
       "    </tr>\n",
       "  </tbody>\n",
       "</table>\n",
       "</div>"
      ],
      "text/plain": [
       "    Latitude   Longitude                                   Species  Diameter  \\\n",
       "0  34.040379 -118.242485      Indian laurel fig (Ficus microcarpa)      20.0   \n",
       "1  34.040320 -118.242379      Indian laurel fig (Ficus microcarpa)      22.0   \n",
       "2  34.040205 -118.242635   African fern pine (Afrocarpus falcatus)       5.0   \n",
       "3  34.040299 -118.242609  London plane tree (Platanus x hispanica)      16.0   \n",
       "4  34.040344 -118.242567  London plane tree (Platanus x hispanica)      16.0   \n",
       "\n",
       "   Any_Protected  \n",
       "0          False  \n",
       "1          False  \n",
       "2          False  \n",
       "3          False  \n",
       "4          False  "
      ]
     },
     "execution_count": 28,
     "metadata": {},
     "output_type": "execute_result"
    }
   ],
   "source": [
    "df_selected = df_filtered[[\"Latitude\",\"Longitude\",\"Species\",\"Diameter\", \"Any_Protected\"]]\n",
    "df_selected.head()"
   ]
  },
  {
   "cell_type": "code",
   "execution_count": 21,
   "id": "b7a09df4",
   "metadata": {},
   "outputs": [],
   "source": [
    "df_selected.to_csv(\"/Users/davidliu/Desktop/IASC2025/la_tree_park_filtered.csv\", index=False)"
   ]
  }
 ],
 "metadata": {
  "kernelspec": {
   "display_name": "Python 3",
   "language": "python",
   "name": "python3"
  },
  "language_info": {
   "codemirror_mode": {
    "name": "ipython",
    "version": 3
   },
   "file_extension": ".py",
   "mimetype": "text/x-python",
   "name": "python",
   "nbconvert_exporter": "python",
   "pygments_lexer": "ipython3",
   "version": "3.13.2"
  }
 },
 "nbformat": 4,
 "nbformat_minor": 5
}
