{
 "cells": [
  {
   "cell_type": "code",
   "execution_count": 82,
   "id": "d372c8b7-66c6-4a72-b8a8-5077c1fc13f9",
   "metadata": {},
   "outputs": [],
   "source": [
    "import pandas as pd"
   ]
  },
  {
   "cell_type": "code",
   "execution_count": 83,
   "id": "467fc2c9-c2ad-4f9b-9581-96beabea5e20",
   "metadata": {},
   "outputs": [
    {
     "name": "stderr",
     "output_type": "stream",
     "text": [
      "/tmp/ipykernel_71/201108581.py:1: DtypeWarning: Columns (13,37,38) have mixed types. Specify dtype option on import or set low_memory=False.\n",
      "  df = pd.read_csv(\"/app/working/data/la_fire.csv\")\n"
     ]
    }
   ],
   "source": [
    "df = pd.read_csv(\"/app/working/data/la_fire.csv\")"
   ]
  },
  {
   "cell_type": "code",
   "execution_count": 84,
   "id": "1874f368-7f04-42ab-943d-ed0ce9ac7986",
   "metadata": {},
   "outputs": [
    {
     "data": {
      "text/html": [
       "<div>\n",
       "<style scoped>\n",
       "    .dataframe tbody tr th:only-of-type {\n",
       "        vertical-align: middle;\n",
       "    }\n",
       "\n",
       "    .dataframe tbody tr th {\n",
       "        vertical-align: top;\n",
       "    }\n",
       "\n",
       "    .dataframe thead th {\n",
       "        text-align: right;\n",
       "    }\n",
       "</style>\n",
       "<table border=\"1\" class=\"dataframe\">\n",
       "  <thead>\n",
       "    <tr style=\"text-align: right;\">\n",
       "      <th></th>\n",
       "      <th>_id</th>\n",
       "      <th>OBJECTID</th>\n",
       "      <th>* Damage</th>\n",
       "      <th>* Street Number</th>\n",
       "      <th>* Street Name</th>\n",
       "      <th>* Street Type (e.g. road, drive, lane, etc.)</th>\n",
       "      <th>Street Suffix (e.g. apt. 23, blding C)</th>\n",
       "      <th>* City</th>\n",
       "      <th>State</th>\n",
       "      <th>Zip Code</th>\n",
       "      <th>...</th>\n",
       "      <th>Fire Name (Secondary)</th>\n",
       "      <th>APN (parcel)</th>\n",
       "      <th>Assessed Improved Value (parcel)</th>\n",
       "      <th>Year Built (parcel)</th>\n",
       "      <th>Site Address (parcel)</th>\n",
       "      <th>GLOBALID</th>\n",
       "      <th>Latitude</th>\n",
       "      <th>Longitude</th>\n",
       "      <th>x</th>\n",
       "      <th>y</th>\n",
       "    </tr>\n",
       "  </thead>\n",
       "  <tbody>\n",
       "    <tr>\n",
       "      <th>0</th>\n",
       "      <td>1</td>\n",
       "      <td>1</td>\n",
       "      <td>No Damage</td>\n",
       "      <td>8376.0</td>\n",
       "      <td>Quail Canyon</td>\n",
       "      <td>Road</td>\n",
       "      <td>NaN</td>\n",
       "      <td>Winters</td>\n",
       "      <td>CA</td>\n",
       "      <td>NaN</td>\n",
       "      <td>...</td>\n",
       "      <td>Quail</td>\n",
       "      <td>0101090290</td>\n",
       "      <td>510000.0</td>\n",
       "      <td>1997.0</td>\n",
       "      <td>8376 QUAIL CANYON RD VACAVILLE CA 95688</td>\n",
       "      <td>e1919a06-b4c6-476d-99e5-f0b45b070de8</td>\n",
       "      <td>38.474960</td>\n",
       "      <td>-122.044465</td>\n",
       "      <td>-1.358593e+07</td>\n",
       "      <td>4.646741e+06</td>\n",
       "    </tr>\n",
       "    <tr>\n",
       "      <th>1</th>\n",
       "      <td>2</td>\n",
       "      <td>2</td>\n",
       "      <td>Affected (1-9%)</td>\n",
       "      <td>8402.0</td>\n",
       "      <td>Quail Canyon</td>\n",
       "      <td>Road</td>\n",
       "      <td>NaN</td>\n",
       "      <td>Winters</td>\n",
       "      <td>CA</td>\n",
       "      <td>NaN</td>\n",
       "      <td>...</td>\n",
       "      <td>Quail</td>\n",
       "      <td>0101090270</td>\n",
       "      <td>573052.0</td>\n",
       "      <td>1980.0</td>\n",
       "      <td>8402 QUAIL CANYON RD VACAVILLE CA 95688</td>\n",
       "      <td>b090eeb6-5b18-421e-9723-af7c9144587c</td>\n",
       "      <td>38.477442</td>\n",
       "      <td>-122.043252</td>\n",
       "      <td>-1.358579e+07</td>\n",
       "      <td>4.647094e+06</td>\n",
       "    </tr>\n",
       "    <tr>\n",
       "      <th>2</th>\n",
       "      <td>3</td>\n",
       "      <td>3</td>\n",
       "      <td>No Damage</td>\n",
       "      <td>8430.0</td>\n",
       "      <td>Quail Canyon</td>\n",
       "      <td>Road</td>\n",
       "      <td>NaN</td>\n",
       "      <td>Winters</td>\n",
       "      <td>CA</td>\n",
       "      <td>NaN</td>\n",
       "      <td>...</td>\n",
       "      <td>Quail</td>\n",
       "      <td>0101090310</td>\n",
       "      <td>350151.0</td>\n",
       "      <td>2004.0</td>\n",
       "      <td>8430 QUAIL CANYON RD VACAVILLE CA 95688</td>\n",
       "      <td>268da70b-753f-46aa-8fb1-327099337395</td>\n",
       "      <td>38.479358</td>\n",
       "      <td>-122.044585</td>\n",
       "      <td>-1.358594e+07</td>\n",
       "      <td>4.647366e+06</td>\n",
       "    </tr>\n",
       "    <tr>\n",
       "      <th>3</th>\n",
       "      <td>4</td>\n",
       "      <td>4</td>\n",
       "      <td>No Damage</td>\n",
       "      <td>3838.0</td>\n",
       "      <td>Putah Creek</td>\n",
       "      <td>Road</td>\n",
       "      <td>NaN</td>\n",
       "      <td>Winters</td>\n",
       "      <td>CA</td>\n",
       "      <td>NaN</td>\n",
       "      <td>...</td>\n",
       "      <td>Quail</td>\n",
       "      <td>0103010240</td>\n",
       "      <td>134880.0</td>\n",
       "      <td>1981.0</td>\n",
       "      <td>3838 PUTAH CREEK RD WINTERS CA 95694</td>\n",
       "      <td>64d4a278-5ee9-414a-8bf4-247c5b5c60f9</td>\n",
       "      <td>38.487313</td>\n",
       "      <td>-122.015115</td>\n",
       "      <td>-1.358266e+07</td>\n",
       "      <td>4.648497e+06</td>\n",
       "    </tr>\n",
       "    <tr>\n",
       "      <th>4</th>\n",
       "      <td>5</td>\n",
       "      <td>5</td>\n",
       "      <td>No Damage</td>\n",
       "      <td>3830.0</td>\n",
       "      <td>Putah Creek</td>\n",
       "      <td>Road</td>\n",
       "      <td>NaN</td>\n",
       "      <td>Winters</td>\n",
       "      <td>CA</td>\n",
       "      <td>NaN</td>\n",
       "      <td>...</td>\n",
       "      <td>Quail</td>\n",
       "      <td>0103010220</td>\n",
       "      <td>346648.0</td>\n",
       "      <td>1980.0</td>\n",
       "      <td>3830 PUTAH CREEK RD WINTERS CA 95694</td>\n",
       "      <td>1b44b214-01fd-4f06-b764-eb42a1ec93d7</td>\n",
       "      <td>38.485636</td>\n",
       "      <td>-122.016122</td>\n",
       "      <td>-1.358277e+07</td>\n",
       "      <td>4.648259e+06</td>\n",
       "    </tr>\n",
       "  </tbody>\n",
       "</table>\n",
       "<p>5 rows × 47 columns</p>\n",
       "</div>"
      ],
      "text/plain": [
       "   _id  OBJECTID         * Damage  * Street Number  * Street Name  \\\n",
       "0    1         1        No Damage           8376.0   Quail Canyon   \n",
       "1    2         2  Affected (1-9%)           8402.0   Quail Canyon   \n",
       "2    3         3        No Damage           8430.0  Quail Canyon    \n",
       "3    4         4        No Damage           3838.0    Putah Creek   \n",
       "4    5         5        No Damage           3830.0    Putah Creek   \n",
       "\n",
       "  * Street Type (e.g. road, drive, lane, etc.)  \\\n",
       "0                                         Road   \n",
       "1                                         Road   \n",
       "2                                         Road   \n",
       "3                                         Road   \n",
       "4                                         Road   \n",
       "\n",
       "  Street Suffix (e.g. apt. 23, blding C)   * City State  Zip Code  ...  \\\n",
       "0                                    NaN  Winters    CA       NaN  ...   \n",
       "1                                    NaN  Winters    CA       NaN  ...   \n",
       "2                                    NaN  Winters    CA       NaN  ...   \n",
       "3                                    NaN  Winters    CA       NaN  ...   \n",
       "4                                    NaN  Winters    CA       NaN  ...   \n",
       "\n",
       "  Fire Name (Secondary) APN (parcel) Assessed Improved Value (parcel)  \\\n",
       "0                 Quail   0101090290                         510000.0   \n",
       "1                 Quail   0101090270                         573052.0   \n",
       "2                 Quail   0101090310                         350151.0   \n",
       "3                 Quail   0103010240                         134880.0   \n",
       "4                 Quail   0103010220                         346648.0   \n",
       "\n",
       "  Year Built (parcel)                    Site Address (parcel)  \\\n",
       "0              1997.0  8376 QUAIL CANYON RD VACAVILLE CA 95688   \n",
       "1              1980.0  8402 QUAIL CANYON RD VACAVILLE CA 95688   \n",
       "2              2004.0  8430 QUAIL CANYON RD VACAVILLE CA 95688   \n",
       "3              1981.0     3838 PUTAH CREEK RD WINTERS CA 95694   \n",
       "4              1980.0     3830 PUTAH CREEK RD WINTERS CA 95694   \n",
       "\n",
       "                               GLOBALID   Latitude   Longitude             x  \\\n",
       "0  e1919a06-b4c6-476d-99e5-f0b45b070de8  38.474960 -122.044465 -1.358593e+07   \n",
       "1  b090eeb6-5b18-421e-9723-af7c9144587c  38.477442 -122.043252 -1.358579e+07   \n",
       "2  268da70b-753f-46aa-8fb1-327099337395  38.479358 -122.044585 -1.358594e+07   \n",
       "3  64d4a278-5ee9-414a-8bf4-247c5b5c60f9  38.487313 -122.015115 -1.358266e+07   \n",
       "4  1b44b214-01fd-4f06-b764-eb42a1ec93d7  38.485636 -122.016122 -1.358277e+07   \n",
       "\n",
       "              y  \n",
       "0  4.646741e+06  \n",
       "1  4.647094e+06  \n",
       "2  4.647366e+06  \n",
       "3  4.648497e+06  \n",
       "4  4.648259e+06  \n",
       "\n",
       "[5 rows x 47 columns]"
      ]
     },
     "execution_count": 84,
     "metadata": {},
     "output_type": "execute_result"
    }
   ],
   "source": [
    "df.head()"
   ]
  },
  {
   "cell_type": "code",
   "execution_count": 85,
   "id": "ab25a2df-e247-4b61-aea2-43344b616cd7",
   "metadata": {},
   "outputs": [
    {
     "data": {
      "text/plain": [
       "((100230, 47),\n",
       " Index(['_id', 'OBJECTID', '* Damage', '* Street Number', '* Street Name',\n",
       "        '* Street Type (e.g. road, drive, lane, etc.)',\n",
       "        'Street Suffix (e.g. apt. 23, blding C)', '* City', 'State', 'Zip Code',\n",
       "        '* CAL FIRE Unit', 'County', 'Community', 'Battalion',\n",
       "        '* Incident Name', 'Incident Number (e.g. CAAEU 123456)',\n",
       "        'Incident Start Date', 'Hazard Type',\n",
       "        'If Affected 1-9% - Where did fire start?',\n",
       "        'If Affected 1-9% - What started fire?',\n",
       "        'Structure Defense Actions Taken', '* Structure Type',\n",
       "        'Structure Category', '# Units in Structure (if multi unit)',\n",
       "        '# of Damaged Outbuildings < 120 SQFT',\n",
       "        '# of Non Damaged Outbuildings < 120 SQFT', '* Roof Construction',\n",
       "        '* Eaves', '* Vent Screen', '* Exterior Siding', '* Window Pane',\n",
       "        '* Deck/Porch On Grade', '* Deck/Porch Elevated',\n",
       "        '* Patio Cover/Carport Attached to Structure',\n",
       "        '* Fence Attached to Structure', 'Distance - Propane Tank to Structure',\n",
       "        'Distance - Residence to Utility/Misc Structure &gt; 120 SQFT',\n",
       "        'Fire Name (Secondary)', 'APN (parcel)',\n",
       "        'Assessed Improved Value (parcel)', 'Year Built (parcel)',\n",
       "        'Site Address (parcel)', 'GLOBALID', 'Latitude', 'Longitude', 'x', 'y'],\n",
       "       dtype='object'))"
      ]
     },
     "execution_count": 85,
     "metadata": {},
     "output_type": "execute_result"
    }
   ],
   "source": [
    "df.shape, df.columns"
   ]
  },
  {
   "cell_type": "markdown",
   "id": "8df2efd0-ef95-4e63-bb62-d471e6a55fbf",
   "metadata": {},
   "source": [
    "# Filter LA County"
   ]
  },
  {
   "cell_type": "code",
   "execution_count": 91,
   "id": "f0f561f8-fd29-40c9-8877-f4504f505f41",
   "metadata": {},
   "outputs": [
    {
     "name": "stdout",
     "output_type": "stream",
     "text": [
      "Filtered to LA County: (3770, 47)\n"
     ]
    }
   ],
   "source": [
    "df_la = df[df['County'].str.lower() == 'los angeles'].copy()\n",
    "print(f\"Filtered to LA County: {df_la.shape}\")"
   ]
  },
  {
   "cell_type": "code",
   "execution_count": 92,
   "id": "bde6ed72-75c8-442f-ac5e-e4e7589659f5",
   "metadata": {},
   "outputs": [
    {
     "name": "stderr",
     "output_type": "stream",
     "text": [
      "/tmp/ipykernel_71/2437882568.py:2: UserWarning: Could not infer format, so each element will be parsed individually, falling back to `dateutil`. To ensure parsing is consistent and as-expected, please specify a format.\n",
      "  df_la['Incident Start Date'] = pd.to_datetime(df_la['Incident Start Date'], errors='coerce')\n"
     ]
    }
   ],
   "source": [
    "# Convert incident start date\n",
    "df_la['Incident Start Date'] = pd.to_datetime(df_la['Incident Start Date'], errors='coerce')\n",
    "\n",
    "# Drop rows with no valid date\n",
    "df_la = df_la.dropna(subset=['Incident Start Date'])\n",
    "\n",
    "# Add year, month\n",
    "df_la['year'] = df_la['Incident Start Date'].dt.year\n",
    "df_la['month'] = df_la['Incident Start Date'].dt.month"
   ]
  },
  {
   "cell_type": "code",
   "execution_count": 93,
   "id": "eee862bc-c510-49ce-a22a-38aed18930e1",
   "metadata": {},
   "outputs": [],
   "source": [
    "keep_cols = ['* Damage', 'Incident Start Date', 'Zip Code', 'Hazard Type','Latitude', 'Longitude', '* City', '* Structure Type', 'year', 'month'] #or more\n",
    "df_la_clean = df_la[keep_cols].copy()"
   ]
  },
  {
   "cell_type": "code",
   "execution_count": 94,
   "id": "78463d60-93a0-4771-9377-2311b0d57a96",
   "metadata": {},
   "outputs": [
    {
     "data": {
      "text/plain": [
       "array(['LAKE HUGHES', 'LAKE HUGHES ', 'LANCASTER ', 'LANCASTER', nan,\n",
       "       'Los Angeles County', 'Malibu', 'Agoura Hills', 'Calabasas',\n",
       "       'Hidden Hills', 'Westlake Village', 'Los Angeles', 'Los Angeles ',\n",
       "       'Unincorporated', 'Santa Clarita', 'Lebec', 'Lancaster', 'Gorman',\n",
       "       'Llano', 'Mt Baldy', 'North Hollywood', 'Monrovia', 'Wrightwood',\n",
       "       'MT. BALDY', 'Mt. Baldy', 'Valyermo', 'Claremont'], dtype=object)"
      ]
     },
     "execution_count": 94,
     "metadata": {},
     "output_type": "execute_result"
    }
   ],
   "source": [
    "df_la_clean['* City'].unique()"
   ]
  },
  {
   "cell_type": "code",
   "execution_count": 95,
   "id": "fb31b391-5bc6-48d7-b57f-c031787beaf6",
   "metadata": {},
   "outputs": [
    {
     "data": {
      "text/plain": [
       "Zip Code    2141\n",
       "* City       569\n",
       "dtype: int64"
      ]
     },
     "execution_count": 95,
     "metadata": {},
     "output_type": "execute_result"
    }
   ],
   "source": [
    "df_la_clean.isna().sum()[df_la_clean.isna().sum() > 0]"
   ]
  },
  {
   "cell_type": "markdown",
   "id": "eb65a3bc-b3e0-4d09-8d40-20a9e82fb246",
   "metadata": {},
   "source": [
    "# Filter LA City only"
   ]
  },
  {
   "cell_type": "code",
   "execution_count": 96,
   "id": "0333aa41-3982-4910-b4c7-442763628838",
   "metadata": {},
   "outputs": [],
   "source": [
    "df_la_city_clean = df_la_clean[df_la_clean['* City'].str.strip() == 'Los Angeles']"
   ]
  },
  {
   "cell_type": "code",
   "execution_count": 97,
   "id": "3dcfb153-e032-4012-94ff-ff9c0dd99af6",
   "metadata": {},
   "outputs": [
    {
     "data": {
      "text/html": [
       "<div>\n",
       "<style scoped>\n",
       "    .dataframe tbody tr th:only-of-type {\n",
       "        vertical-align: middle;\n",
       "    }\n",
       "\n",
       "    .dataframe tbody tr th {\n",
       "        vertical-align: top;\n",
       "    }\n",
       "\n",
       "    .dataframe thead th {\n",
       "        text-align: right;\n",
       "    }\n",
       "</style>\n",
       "<table border=\"1\" class=\"dataframe\">\n",
       "  <thead>\n",
       "    <tr style=\"text-align: right;\">\n",
       "      <th></th>\n",
       "      <th>* Damage</th>\n",
       "      <th>Incident Start Date</th>\n",
       "      <th>Zip Code</th>\n",
       "      <th>Hazard Type</th>\n",
       "      <th>Latitude</th>\n",
       "      <th>Longitude</th>\n",
       "      <th>* City</th>\n",
       "      <th>* Structure Type</th>\n",
       "      <th>year</th>\n",
       "      <th>month</th>\n",
       "    </tr>\n",
       "  </thead>\n",
       "  <tbody>\n",
       "    <tr>\n",
       "      <th>57546</th>\n",
       "      <td>No Damage</td>\n",
       "      <td>2017-12-06</td>\n",
       "      <td>0.0</td>\n",
       "      <td>Fire</td>\n",
       "      <td>34.095153</td>\n",
       "      <td>-118.469189</td>\n",
       "      <td>Los Angeles</td>\n",
       "      <td>Single Family Residence Multi Story</td>\n",
       "      <td>2017</td>\n",
       "      <td>12</td>\n",
       "    </tr>\n",
       "    <tr>\n",
       "      <th>57547</th>\n",
       "      <td>No Damage</td>\n",
       "      <td>2017-12-06</td>\n",
       "      <td>0.0</td>\n",
       "      <td>Fire</td>\n",
       "      <td>34.094989</td>\n",
       "      <td>-118.468803</td>\n",
       "      <td>Los Angeles</td>\n",
       "      <td>Single Family Residence Multi Story</td>\n",
       "      <td>2017</td>\n",
       "      <td>12</td>\n",
       "    </tr>\n",
       "    <tr>\n",
       "      <th>57548</th>\n",
       "      <td>No Damage</td>\n",
       "      <td>2017-12-06</td>\n",
       "      <td>0.0</td>\n",
       "      <td>Fire</td>\n",
       "      <td>34.094337</td>\n",
       "      <td>-118.468786</td>\n",
       "      <td>Los Angeles</td>\n",
       "      <td>Single Family Residence Multi Story</td>\n",
       "      <td>2017</td>\n",
       "      <td>12</td>\n",
       "    </tr>\n",
       "    <tr>\n",
       "      <th>57549</th>\n",
       "      <td>No Damage</td>\n",
       "      <td>2017-12-06</td>\n",
       "      <td>0.0</td>\n",
       "      <td>Fire</td>\n",
       "      <td>34.093915</td>\n",
       "      <td>-118.468773</td>\n",
       "      <td>Los Angeles</td>\n",
       "      <td>Single Family Residence Multi Story</td>\n",
       "      <td>2017</td>\n",
       "      <td>12</td>\n",
       "    </tr>\n",
       "    <tr>\n",
       "      <th>57550</th>\n",
       "      <td>No Damage</td>\n",
       "      <td>2017-12-06</td>\n",
       "      <td>0.0</td>\n",
       "      <td>Fire</td>\n",
       "      <td>34.090212</td>\n",
       "      <td>-118.469683</td>\n",
       "      <td>Los Angeles</td>\n",
       "      <td>Single Family Residence Multi Story</td>\n",
       "      <td>2017</td>\n",
       "      <td>12</td>\n",
       "    </tr>\n",
       "    <tr>\n",
       "      <th>...</th>\n",
       "      <td>...</td>\n",
       "      <td>...</td>\n",
       "      <td>...</td>\n",
       "      <td>...</td>\n",
       "      <td>...</td>\n",
       "      <td>...</td>\n",
       "      <td>...</td>\n",
       "      <td>...</td>\n",
       "      <td>...</td>\n",
       "      <td>...</td>\n",
       "    </tr>\n",
       "    <tr>\n",
       "      <th>74832</th>\n",
       "      <td>Affected (1-9%)</td>\n",
       "      <td>2019-10-10</td>\n",
       "      <td>NaN</td>\n",
       "      <td>Fire</td>\n",
       "      <td>34.290280</td>\n",
       "      <td>-118.568069</td>\n",
       "      <td>Los Angeles</td>\n",
       "      <td>Single Family Residence Multi Story</td>\n",
       "      <td>2019</td>\n",
       "      <td>10</td>\n",
       "    </tr>\n",
       "    <tr>\n",
       "      <th>74833</th>\n",
       "      <td>Inaccessible</td>\n",
       "      <td>2019-10-10</td>\n",
       "      <td>NaN</td>\n",
       "      <td>Fire</td>\n",
       "      <td>34.292428</td>\n",
       "      <td>-118.537482</td>\n",
       "      <td>Los Angeles</td>\n",
       "      <td>Single Family Residence Multi Story</td>\n",
       "      <td>2019</td>\n",
       "      <td>10</td>\n",
       "    </tr>\n",
       "    <tr>\n",
       "      <th>74834</th>\n",
       "      <td>Inaccessible</td>\n",
       "      <td>2019-10-10</td>\n",
       "      <td>NaN</td>\n",
       "      <td>Fire</td>\n",
       "      <td>34.291988</td>\n",
       "      <td>-118.536826</td>\n",
       "      <td>Los Angeles</td>\n",
       "      <td>Single Family Residence Single Story</td>\n",
       "      <td>2019</td>\n",
       "      <td>10</td>\n",
       "    </tr>\n",
       "    <tr>\n",
       "      <th>74835</th>\n",
       "      <td>Minor (10-25%)</td>\n",
       "      <td>2019-10-10</td>\n",
       "      <td>NaN</td>\n",
       "      <td>Fire</td>\n",
       "      <td>34.283501</td>\n",
       "      <td>-118.530599</td>\n",
       "      <td>Los Angeles</td>\n",
       "      <td>Single Family Residence Multi Story</td>\n",
       "      <td>2019</td>\n",
       "      <td>10</td>\n",
       "    </tr>\n",
       "    <tr>\n",
       "      <th>74836</th>\n",
       "      <td>Affected (1-9%)</td>\n",
       "      <td>2019-10-10</td>\n",
       "      <td>NaN</td>\n",
       "      <td>Fire</td>\n",
       "      <td>34.283901</td>\n",
       "      <td>-118.530682</td>\n",
       "      <td>Los Angeles</td>\n",
       "      <td>Single Family Residence Multi Story</td>\n",
       "      <td>2019</td>\n",
       "      <td>10</td>\n",
       "    </tr>\n",
       "  </tbody>\n",
       "</table>\n",
       "<p>310 rows × 10 columns</p>\n",
       "</div>"
      ],
      "text/plain": [
       "              * Damage Incident Start Date  Zip Code Hazard Type   Latitude  \\\n",
       "57546        No Damage          2017-12-06       0.0        Fire  34.095153   \n",
       "57547        No Damage          2017-12-06       0.0        Fire  34.094989   \n",
       "57548        No Damage          2017-12-06       0.0        Fire  34.094337   \n",
       "57549        No Damage          2017-12-06       0.0        Fire  34.093915   \n",
       "57550        No Damage          2017-12-06       0.0        Fire  34.090212   \n",
       "...                ...                 ...       ...         ...        ...   \n",
       "74832  Affected (1-9%)          2019-10-10       NaN        Fire  34.290280   \n",
       "74833     Inaccessible          2019-10-10       NaN        Fire  34.292428   \n",
       "74834     Inaccessible          2019-10-10       NaN        Fire  34.291988   \n",
       "74835   Minor (10-25%)          2019-10-10       NaN        Fire  34.283501   \n",
       "74836  Affected (1-9%)          2019-10-10       NaN        Fire  34.283901   \n",
       "\n",
       "        Longitude       * City                      * Structure Type  year  \\\n",
       "57546 -118.469189  Los Angeles   Single Family Residence Multi Story  2017   \n",
       "57547 -118.468803  Los Angeles   Single Family Residence Multi Story  2017   \n",
       "57548 -118.468786  Los Angeles   Single Family Residence Multi Story  2017   \n",
       "57549 -118.468773  Los Angeles   Single Family Residence Multi Story  2017   \n",
       "57550 -118.469683  Los Angeles   Single Family Residence Multi Story  2017   \n",
       "...           ...          ...                                   ...   ...   \n",
       "74832 -118.568069  Los Angeles   Single Family Residence Multi Story  2019   \n",
       "74833 -118.537482  Los Angeles   Single Family Residence Multi Story  2019   \n",
       "74834 -118.536826  Los Angeles  Single Family Residence Single Story  2019   \n",
       "74835 -118.530599  Los Angeles   Single Family Residence Multi Story  2019   \n",
       "74836 -118.530682  Los Angeles   Single Family Residence Multi Story  2019   \n",
       "\n",
       "       month  \n",
       "57546     12  \n",
       "57547     12  \n",
       "57548     12  \n",
       "57549     12  \n",
       "57550     12  \n",
       "...      ...  \n",
       "74832     10  \n",
       "74833     10  \n",
       "74834     10  \n",
       "74835     10  \n",
       "74836     10  \n",
       "\n",
       "[310 rows x 10 columns]"
      ]
     },
     "execution_count": 97,
     "metadata": {},
     "output_type": "execute_result"
    }
   ],
   "source": [
    "df_la_city_clean"
   ]
  },
  {
   "cell_type": "code",
   "execution_count": 98,
   "id": "d0768dae-ae72-41e8-bd04-7b93f014d621",
   "metadata": {},
   "outputs": [],
   "source": [
    "# Reindex the DataFrame to have a new sequential index\n",
    "df_la_city_clean = df_la_city_clean.reset_index(drop=True)"
   ]
  },
  {
   "cell_type": "code",
   "execution_count": 110,
   "id": "542cc639-0247-4a16-9b50-5ff6323db710",
   "metadata": {},
   "outputs": [],
   "source": [
    "df_la_county_city_clean = df_la_county_city_clean.rename(columns={\n",
    "    '* Damage': 'Damage',\n",
    "    'Zip Code': 'Zip_Code',\n",
    "    'Hazard Type': 'Hazard_Type',\n",
    "    'Latitude': 'Latitude',\n",
    "    'Longitude': 'Longitude',\n",
    "    '* City': 'City',\n",
    "    '* Structure Type': 'Structure_Type'\n",
    "})"
   ]
  },
  {
   "cell_type": "code",
   "execution_count": 111,
   "id": "cd6f72a4-42bf-430e-9ff3-1e202828fc95",
   "metadata": {},
   "outputs": [],
   "source": [
    "df_la_city_clean.to_csv(\"/app/working/data/la_city_wildfire_cleaned.csv\", index=False)"
   ]
  },
  {
   "cell_type": "code",
   "execution_count": 121,
   "id": "d3aa61b2-bc2f-4c91-b18c-f1f1d6ebf20f",
   "metadata": {},
   "outputs": [
    {
     "data": {
      "text/plain": [
       "[np.int32(2017), np.int32(2019)]"
      ]
     },
     "execution_count": 121,
     "metadata": {},
     "output_type": "execute_result"
    }
   ],
   "source": [
    "sorted(df_la_city_clean[\"year\"].unique())"
   ]
  },
  {
   "cell_type": "markdown",
   "id": "897beacb-e6a4-4551-8870-eaad37b58a02",
   "metadata": {},
   "source": [
    "# Filter LA and LA County City"
   ]
  },
  {
   "cell_type": "code",
   "execution_count": 112,
   "id": "1aaa6c95-efa2-4dc4-bb4c-07c3483a8793",
   "metadata": {},
   "outputs": [
    {
     "data": {
      "text/plain": [
       "Zip Code    118\n",
       "dtype: int64"
      ]
     },
     "execution_count": 112,
     "metadata": {},
     "output_type": "execute_result"
    }
   ],
   "source": [
    "df_la_city_clean.isna().sum()[df_la_city_clean.isna().sum() > 0]"
   ]
  },
  {
   "cell_type": "code",
   "execution_count": 113,
   "id": "04c5c67d-c4aa-4cf1-8f78-1ee231e67ae8",
   "metadata": {},
   "outputs": [],
   "source": [
    "df_la_county_city_clean = df_la_clean[\n",
    "    df_la_clean['* City'].str.strip().isin(['Los Angeles', 'Los Angeles County'])\n",
    "]"
   ]
  },
  {
   "cell_type": "code",
   "execution_count": 114,
   "id": "70d34da5-517b-42ad-bbaf-98dca6f539a7",
   "metadata": {},
   "outputs": [
    {
     "data": {
      "text/html": [
       "<div>\n",
       "<style scoped>\n",
       "    .dataframe tbody tr th:only-of-type {\n",
       "        vertical-align: middle;\n",
       "    }\n",
       "\n",
       "    .dataframe tbody tr th {\n",
       "        vertical-align: top;\n",
       "    }\n",
       "\n",
       "    .dataframe thead th {\n",
       "        text-align: right;\n",
       "    }\n",
       "</style>\n",
       "<table border=\"1\" class=\"dataframe\">\n",
       "  <thead>\n",
       "    <tr style=\"text-align: right;\">\n",
       "      <th></th>\n",
       "      <th>* Damage</th>\n",
       "      <th>Incident Start Date</th>\n",
       "      <th>Zip Code</th>\n",
       "      <th>Hazard Type</th>\n",
       "      <th>Latitude</th>\n",
       "      <th>Longitude</th>\n",
       "      <th>* City</th>\n",
       "      <th>* Structure Type</th>\n",
       "      <th>year</th>\n",
       "      <th>month</th>\n",
       "    </tr>\n",
       "  </thead>\n",
       "  <tbody>\n",
       "    <tr>\n",
       "      <th>48157</th>\n",
       "      <td>Destroyed (&gt;50%)</td>\n",
       "      <td>2018-11-08</td>\n",
       "      <td>NaN</td>\n",
       "      <td>Fire</td>\n",
       "      <td>34.093722</td>\n",
       "      <td>-118.896672</td>\n",
       "      <td>Los Angeles County</td>\n",
       "      <td>Single Family Residence Multi Story</td>\n",
       "      <td>2018</td>\n",
       "      <td>11</td>\n",
       "    </tr>\n",
       "    <tr>\n",
       "      <th>48158</th>\n",
       "      <td>Destroyed (&gt;50%)</td>\n",
       "      <td>2018-11-08</td>\n",
       "      <td>NaN</td>\n",
       "      <td>Fire</td>\n",
       "      <td>34.089662</td>\n",
       "      <td>-118.899208</td>\n",
       "      <td>Los Angeles County</td>\n",
       "      <td>Mobile Home Double Wide</td>\n",
       "      <td>2018</td>\n",
       "      <td>11</td>\n",
       "    </tr>\n",
       "    <tr>\n",
       "      <th>48159</th>\n",
       "      <td>Destroyed (&gt;50%)</td>\n",
       "      <td>2018-11-08</td>\n",
       "      <td>NaN</td>\n",
       "      <td>Fire</td>\n",
       "      <td>34.090811</td>\n",
       "      <td>-118.894701</td>\n",
       "      <td>Los Angeles County</td>\n",
       "      <td>Utility Misc Structure</td>\n",
       "      <td>2018</td>\n",
       "      <td>11</td>\n",
       "    </tr>\n",
       "    <tr>\n",
       "      <th>48160</th>\n",
       "      <td>Destroyed (&gt;50%)</td>\n",
       "      <td>2018-11-08</td>\n",
       "      <td>NaN</td>\n",
       "      <td>Fire</td>\n",
       "      <td>34.089741</td>\n",
       "      <td>-118.894618</td>\n",
       "      <td>Los Angeles County</td>\n",
       "      <td>Single Family Residence Single Story</td>\n",
       "      <td>2018</td>\n",
       "      <td>11</td>\n",
       "    </tr>\n",
       "    <tr>\n",
       "      <th>48161</th>\n",
       "      <td>Destroyed (&gt;50%)</td>\n",
       "      <td>2018-11-08</td>\n",
       "      <td>NaN</td>\n",
       "      <td>Fire</td>\n",
       "      <td>34.090871</td>\n",
       "      <td>-118.895039</td>\n",
       "      <td>Los Angeles County</td>\n",
       "      <td>Single Family Residence Multi Story</td>\n",
       "      <td>2018</td>\n",
       "      <td>11</td>\n",
       "    </tr>\n",
       "    <tr>\n",
       "      <th>...</th>\n",
       "      <td>...</td>\n",
       "      <td>...</td>\n",
       "      <td>...</td>\n",
       "      <td>...</td>\n",
       "      <td>...</td>\n",
       "      <td>...</td>\n",
       "      <td>...</td>\n",
       "      <td>...</td>\n",
       "      <td>...</td>\n",
       "      <td>...</td>\n",
       "    </tr>\n",
       "    <tr>\n",
       "      <th>74832</th>\n",
       "      <td>Affected (1-9%)</td>\n",
       "      <td>2019-10-10</td>\n",
       "      <td>NaN</td>\n",
       "      <td>Fire</td>\n",
       "      <td>34.290280</td>\n",
       "      <td>-118.568069</td>\n",
       "      <td>Los Angeles</td>\n",
       "      <td>Single Family Residence Multi Story</td>\n",
       "      <td>2019</td>\n",
       "      <td>10</td>\n",
       "    </tr>\n",
       "    <tr>\n",
       "      <th>74833</th>\n",
       "      <td>Inaccessible</td>\n",
       "      <td>2019-10-10</td>\n",
       "      <td>NaN</td>\n",
       "      <td>Fire</td>\n",
       "      <td>34.292428</td>\n",
       "      <td>-118.537482</td>\n",
       "      <td>Los Angeles</td>\n",
       "      <td>Single Family Residence Multi Story</td>\n",
       "      <td>2019</td>\n",
       "      <td>10</td>\n",
       "    </tr>\n",
       "    <tr>\n",
       "      <th>74834</th>\n",
       "      <td>Inaccessible</td>\n",
       "      <td>2019-10-10</td>\n",
       "      <td>NaN</td>\n",
       "      <td>Fire</td>\n",
       "      <td>34.291988</td>\n",
       "      <td>-118.536826</td>\n",
       "      <td>Los Angeles</td>\n",
       "      <td>Single Family Residence Single Story</td>\n",
       "      <td>2019</td>\n",
       "      <td>10</td>\n",
       "    </tr>\n",
       "    <tr>\n",
       "      <th>74835</th>\n",
       "      <td>Minor (10-25%)</td>\n",
       "      <td>2019-10-10</td>\n",
       "      <td>NaN</td>\n",
       "      <td>Fire</td>\n",
       "      <td>34.283501</td>\n",
       "      <td>-118.530599</td>\n",
       "      <td>Los Angeles</td>\n",
       "      <td>Single Family Residence Multi Story</td>\n",
       "      <td>2019</td>\n",
       "      <td>10</td>\n",
       "    </tr>\n",
       "    <tr>\n",
       "      <th>74836</th>\n",
       "      <td>Affected (1-9%)</td>\n",
       "      <td>2019-10-10</td>\n",
       "      <td>NaN</td>\n",
       "      <td>Fire</td>\n",
       "      <td>34.283901</td>\n",
       "      <td>-118.530682</td>\n",
       "      <td>Los Angeles</td>\n",
       "      <td>Single Family Residence Multi Story</td>\n",
       "      <td>2019</td>\n",
       "      <td>10</td>\n",
       "    </tr>\n",
       "  </tbody>\n",
       "</table>\n",
       "<p>1167 rows × 10 columns</p>\n",
       "</div>"
      ],
      "text/plain": [
       "               * Damage Incident Start Date  Zip Code Hazard Type   Latitude  \\\n",
       "48157  Destroyed (>50%)          2018-11-08       NaN        Fire  34.093722   \n",
       "48158  Destroyed (>50%)          2018-11-08       NaN        Fire  34.089662   \n",
       "48159  Destroyed (>50%)          2018-11-08       NaN        Fire  34.090811   \n",
       "48160  Destroyed (>50%)          2018-11-08       NaN        Fire  34.089741   \n",
       "48161  Destroyed (>50%)          2018-11-08       NaN        Fire  34.090871   \n",
       "...                 ...                 ...       ...         ...        ...   \n",
       "74832   Affected (1-9%)          2019-10-10       NaN        Fire  34.290280   \n",
       "74833      Inaccessible          2019-10-10       NaN        Fire  34.292428   \n",
       "74834      Inaccessible          2019-10-10       NaN        Fire  34.291988   \n",
       "74835    Minor (10-25%)          2019-10-10       NaN        Fire  34.283501   \n",
       "74836   Affected (1-9%)          2019-10-10       NaN        Fire  34.283901   \n",
       "\n",
       "        Longitude              * City                      * Structure Type  \\\n",
       "48157 -118.896672  Los Angeles County   Single Family Residence Multi Story   \n",
       "48158 -118.899208  Los Angeles County               Mobile Home Double Wide   \n",
       "48159 -118.894701  Los Angeles County                Utility Misc Structure   \n",
       "48160 -118.894618  Los Angeles County  Single Family Residence Single Story   \n",
       "48161 -118.895039  Los Angeles County   Single Family Residence Multi Story   \n",
       "...           ...                 ...                                   ...   \n",
       "74832 -118.568069         Los Angeles   Single Family Residence Multi Story   \n",
       "74833 -118.537482         Los Angeles   Single Family Residence Multi Story   \n",
       "74834 -118.536826         Los Angeles  Single Family Residence Single Story   \n",
       "74835 -118.530599         Los Angeles   Single Family Residence Multi Story   \n",
       "74836 -118.530682         Los Angeles   Single Family Residence Multi Story   \n",
       "\n",
       "       year  month  \n",
       "48157  2018     11  \n",
       "48158  2018     11  \n",
       "48159  2018     11  \n",
       "48160  2018     11  \n",
       "48161  2018     11  \n",
       "...     ...    ...  \n",
       "74832  2019     10  \n",
       "74833  2019     10  \n",
       "74834  2019     10  \n",
       "74835  2019     10  \n",
       "74836  2019     10  \n",
       "\n",
       "[1167 rows x 10 columns]"
      ]
     },
     "execution_count": 114,
     "metadata": {},
     "output_type": "execute_result"
    }
   ],
   "source": [
    "df_la_county_city_clean"
   ]
  },
  {
   "cell_type": "code",
   "execution_count": 115,
   "id": "73992443-50e2-4ec4-95d7-1e6e8760a085",
   "metadata": {},
   "outputs": [
    {
     "data": {
      "text/plain": [
       "Zip Code    975\n",
       "dtype: int64"
      ]
     },
     "execution_count": 115,
     "metadata": {},
     "output_type": "execute_result"
    }
   ],
   "source": [
    "df_la_county_city_clean.isna().sum()[df_la_county_city_clean.isna().sum() > 0]"
   ]
  },
  {
   "cell_type": "code",
   "execution_count": 116,
   "id": "4d5d8864-4d6f-453f-a598-9e4a82dd1293",
   "metadata": {},
   "outputs": [
    {
     "data": {
      "text/plain": [
       "[np.int32(2017), np.int32(2018), np.int32(2019)]"
      ]
     },
     "execution_count": 116,
     "metadata": {},
     "output_type": "execute_result"
    }
   ],
   "source": [
    "sorted(df_la_county_city_clean[\"year\"].unique())"
   ]
  },
  {
   "cell_type": "code",
   "execution_count": 117,
   "id": "aeadcf1c-9007-41f5-a3ed-54b20456700f",
   "metadata": {},
   "outputs": [],
   "source": [
    "df_la_county_city_clean = df_la_county_city_clean.rename(columns={\n",
    "    '* Damage': 'Damage',\n",
    "    'Hazard Type': 'Hazard_Type',\n",
    "    'Latitude': 'Latitude',\n",
    "    'Longitude': 'Longitude',\n",
    "    '* City': 'City',\n",
    "    '* Structure Type': 'Structure_Type'\n",
    "})"
   ]
  },
  {
   "cell_type": "markdown",
   "id": "93499568-c364-422e-ae06-de7dfb6fe99f",
   "metadata": {},
   "source": [
    "# EDA"
   ]
  },
  {
   "cell_type": "code",
   "execution_count": 118,
   "id": "10bac8a1-e821-4b18-89b5-4ae76b6622c7",
   "metadata": {},
   "outputs": [],
   "source": [
    "from sklearn.cluster import DBSCAN\n",
    "import numpy as np\n",
    "import pandas as pd\n",
    "import matplotlib.pyplot as plt\n",
    "\n",
    "# Use only Latitude and Longitude\n",
    "coords = df_la_county_city_clean[['Latitude', 'Longitude']].values"
   ]
  },
  {
   "cell_type": "code",
   "execution_count": 119,
   "id": "0a81f20f-08fd-48c9-b271-d527b0ab90ec",
   "metadata": {},
   "outputs": [],
   "source": [
    "damage_order = [\n",
    "    'Destroyed (>50%)',\n",
    "    'Major (26-50%)',\n",
    "    'Minor (10-25%)',\n",
    "    'Affected (1-9%)',\n",
    "    'Inaccessible',\n",
    "    'No Damage'\n",
    "]\n",
    "\n",
    "df_la_county_city_clean['Damage'] = pd.Categorical(df_la_county_city_clean['Damage'], categories=damage_order, ordered=True)\n",
    "# Custom reversed color palette (dark red = most damage)\n",
    "custom_palette = sns.color_palette(\"YlOrRd\", n_colors=len(damage_order))[::-1]\n",
    "damage_palette = dict(zip(damage_order, custom_palette))\n"
   ]
  },
  {
   "cell_type": "code",
   "execution_count": 120,
   "id": "585faf0a-755e-49d7-8fc2-4e65df808a49",
   "metadata": {},
   "outputs": [
    {
     "data": {
      "image/png": "[encoded data removed]",
      "text/plain": [
       "<Figure size 1200x1000 with 1 Axes>"
      ]
     },
     "metadata": {},
     "output_type": "display_data"
    }
   ],
   "source": [
    "plt.figure(figsize=(12, 10), dpi=100)\n",
    "\n",
    "sns.scatterplot(\n",
    "    data=df_la_county_city_clean,\n",
    "    x='Longitude',\n",
    "    y='Latitude',\n",
    "    hue='Damage',\n",
    "    palette=damage_palette,\n",
    "    s=30,\n",
    "    edgecolor='black',\n",
    "    linewidth=0.4\n",
    ")\n",
    "\n",
    "plt.title('Fire Damage Distribution in Los Angeles (2020–2024)', fontsize=16)\n",
    "plt.xlabel('Longitude')\n",
    "plt.ylabel('Latitude')\n",
    "plt.legend(title='Damage Level', loc='upper right', fontsize='small')\n",
    "plt.grid(True)\n",
    "plt.tight_layout()\n",
    "plt.show()\n"
   ]
  },
  {
   "cell_type": "code",
   "execution_count": null,
   "id": "baaf1132-d31a-4d05-b2a0-43441a9836f7",
   "metadata": {},
   "outputs": [],
   "source": []
  },
  {
   "cell_type": "code",
   "execution_count": null,
   "id": "a465e7ed-4197-4633-a4c3-67d467295701",
   "metadata": {},
   "outputs": [],
   "source": []
  },
  {
   "cell_type": "code",
   "execution_count": null,
   "id": "8ed89869-5c67-4bff-b166-0cd6e7378fe9",
   "metadata": {},
   "outputs": [],
   "source": []
  }
 ],
 "metadata": {
  "kernelspec": {
   "display_name": "Python 3 (ipykernel)",
   "language": "python",
   "name": "python3"
  },
  "language_info": {
   "codemirror_mode": {
    "name": "ipython",
    "version": 3
   },
   "file_extension": ".py",
   "mimetype": "text/x-python",
   "name": "python",
   "nbconvert_exporter": "python",
   "pygments_lexer": "ipython3",
   "version": "3.12.3"
  }
 },
 "nbformat": 4,
 "nbformat_minor": 5
}
